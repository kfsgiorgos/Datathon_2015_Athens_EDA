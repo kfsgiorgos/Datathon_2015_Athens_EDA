{
 "metadata": {
  "name": ""
 },
 "nbformat": 3,
 "nbformat_minor": 0,
 "worksheets": [
  {
   "cells": [
    {
     "cell_type": "heading",
     "level": 2,
     "metadata": {},
     "source": [
      "Athens Datathon 2015: exploratory data analysis for anomaly detection & data quality"
     ]
    },
    {
     "cell_type": "code",
     "collapsed": false,
     "input": [
      "import pandas as pd\n",
      "import matplotlib.pyplot as plt\n",
      "import time\n",
      "import timeit\n",
      "import numpy as np\n",
      "import seaborn as sns\n",
      "%matplotlib inline  "
     ],
     "language": "python",
     "metadata": {},
     "outputs": [],
     "prompt_number": 1
    },
    {
     "cell_type": "heading",
     "level": 4,
     "metadata": {},
     "source": [
      "Load and take a look at Registered Users csv  "
     ]
    },
    {
     "cell_type": "code",
     "collapsed": false,
     "input": [
      "users = pd.read_csv('/home/gkaiafas/Downloads/Titanic/dataset/user_info.csv',sep=\",\", header=None)"
     ],
     "language": "python",
     "metadata": {},
     "outputs": [],
     "prompt_number": 2
    },
    {
     "cell_type": "code",
     "collapsed": false,
     "input": [
      "users.columns=['RegisteredUserId','RegisteredDay','UserType', 'Sex', 'Birth']\n",
      "users.head(7)"
     ],
     "language": "python",
     "metadata": {},
     "outputs": [
      {
       "html": [
        "<div style=\"max-width:1500px;overflow:auto;\">\n",
        "<table border=\"1\" class=\"dataframe\">\n",
        "  <thead>\n",
        "    <tr style=\"text-align: right;\">\n",
        "      <th></th>\n",
        "      <th>RegisteredUserId</th>\n",
        "      <th>RegisteredDay</th>\n",
        "      <th>UserType</th>\n",
        "      <th>Sex</th>\n",
        "      <th>Birth</th>\n",
        "    </tr>\n",
        "  </thead>\n",
        "  <tbody>\n",
        "    <tr>\n",
        "      <th>0</th>\n",
        "      <td>5f183c75ae05809c7a032086d00a96dbfb2e20d3</td>\n",
        "      <td>2006-11-18 03:00:01 +0200</td>\n",
        "      <td>0</td>\n",
        "      <td>NaN</td>\n",
        "      <td>NaN</td>\n",
        "    </tr>\n",
        "    <tr>\n",
        "      <th>1</th>\n",
        "      <td>a403461d184f687966e81b17ccac6a13aebca1aa</td>\n",
        "      <td>2006-11-18 03:00:01 +0200</td>\n",
        "      <td>0</td>\n",
        "      <td>NaN</td>\n",
        "      <td>NaN</td>\n",
        "    </tr>\n",
        "    <tr>\n",
        "      <th>2</th>\n",
        "      <td>384b411b1e0d5a85987fce29cf269f225c677f71</td>\n",
        "      <td>2006-11-18 03:00:01 +0200</td>\n",
        "      <td>0</td>\n",
        "      <td>male</td>\n",
        "      <td>1988-01-01</td>\n",
        "    </tr>\n",
        "    <tr>\n",
        "      <th>3</th>\n",
        "      <td>7e5319d97b4efe14d87007681530949d883732ec</td>\n",
        "      <td>2006-11-18 03:00:01 +0200</td>\n",
        "      <td>0</td>\n",
        "      <td>male</td>\n",
        "      <td>1976-01-01</td>\n",
        "    </tr>\n",
        "    <tr>\n",
        "      <th>4</th>\n",
        "      <td>6de81938fb6b49dbbe27aa67a7253cb90e622499</td>\n",
        "      <td>2006-11-18 03:00:01 +0200</td>\n",
        "      <td>0</td>\n",
        "      <td>male</td>\n",
        "      <td>1975-01-01</td>\n",
        "    </tr>\n",
        "    <tr>\n",
        "      <th>5</th>\n",
        "      <td>a33c5bd9e1f165367bc75c3b305ef4c030dbb7e6</td>\n",
        "      <td>2006-11-18 03:00:01 +0200</td>\n",
        "      <td>0</td>\n",
        "      <td>male</td>\n",
        "      <td>1975-01-01</td>\n",
        "    </tr>\n",
        "    <tr>\n",
        "      <th>6</th>\n",
        "      <td>dba48503ac255c6b7da67011e184ae5d69d04551</td>\n",
        "      <td>2006-11-18 03:00:01 +0200</td>\n",
        "      <td>0</td>\n",
        "      <td>male</td>\n",
        "      <td>1979-01-01</td>\n",
        "    </tr>\n",
        "  </tbody>\n",
        "</table>\n",
        "</div>"
       ],
       "metadata": {},
       "output_type": "pyout",
       "prompt_number": 3,
       "text": [
        "                           RegisteredUserId              RegisteredDay  \\\n",
        "0  5f183c75ae05809c7a032086d00a96dbfb2e20d3  2006-11-18 03:00:01 +0200   \n",
        "1  a403461d184f687966e81b17ccac6a13aebca1aa  2006-11-18 03:00:01 +0200   \n",
        "2  384b411b1e0d5a85987fce29cf269f225c677f71  2006-11-18 03:00:01 +0200   \n",
        "3  7e5319d97b4efe14d87007681530949d883732ec  2006-11-18 03:00:01 +0200   \n",
        "4  6de81938fb6b49dbbe27aa67a7253cb90e622499  2006-11-18 03:00:01 +0200   \n",
        "5  a33c5bd9e1f165367bc75c3b305ef4c030dbb7e6  2006-11-18 03:00:01 +0200   \n",
        "6  dba48503ac255c6b7da67011e184ae5d69d04551  2006-11-18 03:00:01 +0200   \n",
        "\n",
        "   UserType   Sex       Birth  \n",
        "0         0   NaN         NaN  \n",
        "1         0   NaN         NaN  \n",
        "2         0  male  1988-01-01  \n",
        "3         0  male  1976-01-01  \n",
        "4         0  male  1975-01-01  \n",
        "5         0  male  1975-01-01  \n",
        "6         0  male  1979-01-01  "
       ]
      }
     ],
     "prompt_number": 3
    },
    {
     "cell_type": "heading",
     "level": 4,
     "metadata": {},
     "source": [
      "We have to assert that all the Registred users have to be unique."
     ]
    },
    {
     "cell_type": "code",
     "collapsed": false,
     "input": [
      "print len(users) == len(users.RegisteredUserId.unique())\n",
      "print len(users)"
     ],
     "language": "python",
     "metadata": {},
     "outputs": [
      {
       "output_type": "stream",
       "stream": "stdout",
       "text": [
        "True\n",
        "15218\n"
       ]
      }
     ],
     "prompt_number": 4
    },
    {
     "cell_type": "heading",
     "level": 4,
     "metadata": {},
     "source": [
      "We know apriori that user_info.csv  contain NaN values,so we have to find out their quantity "
     ]
    },
    {
     "cell_type": "code",
     "collapsed": false,
     "input": [
      "users.isnull().sum()"
     ],
     "language": "python",
     "metadata": {},
     "outputs": [
      {
       "metadata": {},
       "output_type": "pyout",
       "prompt_number": 5,
       "text": [
        "RegisteredUserId       0\n",
        "RegisteredDay          0\n",
        "UserType               0\n",
        "Sex                 8039\n",
        "Birth               8855\n",
        "dtype: int64"
       ]
      }
     ],
     "prompt_number": 5
    },
    {
     "cell_type": "code",
     "collapsed": false,
     "input": [
      "print \"UserType variable takes the following values :\"\n",
      "print users['UserType'].value_counts()\n",
      "print \"Sex variable takes the following values :\"\n",
      "print users['Sex'].value_counts()"
     ],
     "language": "python",
     "metadata": {},
     "outputs": [
      {
       "output_type": "stream",
       "stream": "stdout",
       "text": [
        "UserType variable takes the following values :\n",
        "0    10424\n",
        "3     2028\n",
        "1     2012\n",
        "4      696\n",
        "2       58\n",
        "dtype: int64\n",
        "Sex variable takes the following values :\n",
        "male      6161\n",
        "female    1018\n",
        "dtype: int64\n"
       ]
      }
     ],
     "prompt_number": 6
    },
    {
     "cell_type": "code",
     "collapsed": false,
     "input": [
      "users['Sex'].value_counts().plot(kind='bar')\n",
      "plt.show()"
     ],
     "language": "python",
     "metadata": {},
     "outputs": [
      {
       "metadata": {},
       "output_type": "display_data",
       "png": "[encoded data removed]",
       "text": [
        "<matplotlib.figure.Figure at 0x7fa7c4463310>"
       ]
      }
     ],
     "prompt_number": 7
    },
    {
     "cell_type": "code",
     "collapsed": false,
     "input": [
      "users['UserType'].value_counts().plot(kind='bar')\n",
      "plt.show()"
     ],
     "language": "python",
     "metadata": {},
     "outputs": [
      {
       "metadata": {},
       "output_type": "display_data",
       "png": "[encoded data removed]",
       "text": [
        "<matplotlib.figure.Figure at 0x7fa7c4fa6cd0>"
       ]
      }
     ],
     "prompt_number": 8
    },
    {
     "cell_type": "heading",
     "level": 4,
     "metadata": {},
     "source": [
      "Next, we have to take a look at one log file:"
     ]
    },
    {
     "cell_type": "code",
     "collapsed": false,
     "input": [
      "df = pd.read_csv('/home/gkaiafas/Downloads/Titanic/dataset/2013_09_01.log',sep=\",\",header=None,parse_dates=True)\n",
      "%time"
     ],
     "language": "python",
     "metadata": {},
     "outputs": [
      {
       "output_type": "stream",
       "stream": "stdout",
       "text": [
        "CPU times: user 2 \u00b5s, sys: 0 ns, total: 2 \u00b5s\n",
        "Wall time: 5.01 \u00b5s\n"
       ]
      }
     ],
     "prompt_number": 9
    },
    {
     "cell_type": "code",
     "collapsed": false,
     "input": [
      "df.columns=['sttp','UserSessionId', 'RegisteredUserId', 'PathURL', 'action', 'Time', 'Query', 'CategoryId', 'ShopId',\n",
      "            'ProductID', 'RefURL', 'SKU_Id','#Results']\n",
      "print df.head()"
     ],
     "language": "python",
     "metadata": {},
     "outputs": [
      {
       "output_type": "stream",
       "stream": "stdout",
       "text": [
        "   sttp                     UserSessionId RegisteredUserId  \\\n",
        "0    22  89eca7cf382112a1b82fa0bf22c3b6c0              NaN   \n",
        "1    10  edec809dcd22538c41ddb2afa6a80958              NaN   \n",
        "2    22  333542d43bc440fd7d865307fa3d9871              NaN   \n",
        "3    10  df15ec69b3edde03f3c832aa1bba5bed              NaN   \n",
        "4    10  d8b619b5a14c0f5f4968fd23321f0003              NaN   \n",
        "\n",
        "                   PathURL action          Time                         Query  \\\n",
        "0                  /search    NaN  1.377983e+09  \u03c4\u03c1\u03b1\u03c0\u03b5\u03b6\u03b9 \u03ba\u03bf\u03c5\u03b6\u03b9\u03bd\u03b1\u03c2 \u03bc\u03b5 \u03ba\u03b1\u03c1\u03b5\u03ba\u03bb\u03b5\u03c2   \n",
        "1  /products/show/13160930    NaN  1.377983e+09                        12Q420   \n",
        "2                  /search    NaN  1.377983e+09                    maybelline   \n",
        "3   /products/show/9546086    NaN  1.377983e+09                     Hugo Boss   \n",
        "4   /products/show/8912067    NaN  1.377983e+09                      xbox 360   \n",
        "\n",
        "   CategoryId                                    ShopId  \\\n",
        "0         NaN                                       NaN   \n",
        "1         405  de12f28477d366ee4ab82fbab866fb9fca157d5c   \n",
        "2         NaN                                       NaN   \n",
        "3         790  d1c8cad880ecd17793bb0b0460cb05636766cb95   \n",
        "4         109  5149f83f83380531b226e09c2f388bffc5087cbe   \n",
        "\n",
        "                                  ProductID  \\\n",
        "0                                       NaN   \n",
        "1  7c1f7d8ed7c7c0905ccd6cb5b4197280ea511b3e   \n",
        "2                                       NaN   \n",
        "3  f43f7147a8bf6932801f11a3663536b160235b1f   \n",
        "4  550ae3314e949c0a7e083c6b0c7c6c1a4a9d2048   \n",
        "\n",
        "                                              RefURL   SKU_Id  #Results  \n",
        "0  http://www.skroutz.gr/c/1123/dining_table.html...      NaN         3  \n",
        "1  http://www.skroutz.gr/s/442786/Siemens-WM12Q42...   442786       NaN  \n",
        "2  http://www.skroutz.gr/search?keyphrase=maybell...      NaN        11  \n",
        "3  http://www.skroutz.gr/s/1932513/Hugo-Boss-0032...  1932513       NaN  \n",
        "4  http://www.skroutz.gr/c/109/gamepads.html?keyp...  1475611       NaN  \n"
       ]
      }
     ],
     "prompt_number": 10
    },
    {
     "cell_type": "heading",
     "level": 4,
     "metadata": {},
     "source": [
      "We get two DataFrames from df, one is for females and the other is for males "
     ]
    },
    {
     "cell_type": "code",
     "collapsed": false,
     "input": [
      "female = users[users['Sex']=='female']['RegisteredUserId']\n",
      "male = users[users['Sex']=='male']['RegisteredUserId']\n",
      "no_given_sex = users[pd.isnull(users['Sex'])]['RegisteredUserId']"
     ],
     "language": "python",
     "metadata": {},
     "outputs": [],
     "prompt_number": 11
    },
    {
     "cell_type": "code",
     "collapsed": false,
     "input": [
      "sum_of_unregistred_users = df.RegisteredUserId.isnull().sum()\n",
      "print sum_of_unregistred_users\n",
      "# df = df[pd.notnull(df['RegisteredUserId'])]\n",
      "Registered = df.RegisteredUserId.dropna()\n",
      "print len(Registered)"
     ],
     "language": "python",
     "metadata": {},
     "outputs": [
      {
       "output_type": "stream",
       "stream": "stdout",
       "text": [
        "316504\n",
        "13528\n"
       ]
      }
     ],
     "prompt_number": 12
    },
    {
     "cell_type": "code",
     "collapsed": false,
     "input": [
      "Registered = list(Registered)\n",
      "male = list(male)\n",
      "female = list(female)\n",
      "no_given_sex = list(no_given_sex)"
     ],
     "language": "python",
     "metadata": {},
     "outputs": [],
     "prompt_number": 13
    },
    {
     "cell_type": "code",
     "collapsed": false,
     "input": [
      "start_time = time.time()\n",
      "females_logs_intersection = [i for i in Registered if i in female]\n",
      "males_logs_intersection = [j for j in Registered if j in male]\n",
      "no_given_sex_logs_intersection = [j for j in Registered if j in no_given_sex]\n",
      "print(\"--- %s seconds ---\" % (time.time() - start_time))"
     ],
     "language": "python",
     "metadata": {},
     "outputs": [
      {
       "output_type": "stream",
       "stream": "stdout",
       "text": [
        "--- 1.43293690681 seconds ---\n"
       ]
      }
     ],
     "prompt_number": 14
    },
    {
     "cell_type": "code",
     "collapsed": false,
     "input": [
      "males_logs_df = df[df['RegisteredUserId'].isin(males_logs_intersection)]\n",
      "females_logs_df = df[df['RegisteredUserId'].isin(females_logs_intersection)]\n",
      "no_given_sex_logs_df = df[df['RegisteredUserId'].isin(no_given_sex_logs_intersection)]"
     ],
     "language": "python",
     "metadata": {},
     "outputs": [],
     "prompt_number": 15
    },
    {
     "cell_type": "heading",
     "level": 4,
     "metadata": {},
     "source": [
      "We have to assert that the length of the previous DataFrames plus the length of the unregistered users\n",
      "must be equal to the length of the loaded csv"
     ]
    },
    {
     "cell_type": "code",
     "collapsed": false,
     "input": [
      "x1 = len(males_logs_df)\n",
      "x2 = len(females_logs_df)\n",
      "x3 = len(no_given_sex_logs_intersection)\n",
      "x = x1+x2+x3\n",
      "print x\n",
      "y = df.RegisteredUserId.notnull().sum()\n",
      "print y\n",
      "print \"Is the the sum of males,females and no_given_sex Registered users equal to the sum of Registered users in the df? \" + str(y==x)\n",
      "print y-x"
     ],
     "language": "python",
     "metadata": {},
     "outputs": [
      {
       "output_type": "stream",
       "stream": "stdout",
       "text": [
        "9797\n",
        "13528\n",
        "Is the the sum of males,females and no_given_sex Registered users equal to the sum of Registered users in the df? False\n",
        "3731\n"
       ]
      }
     ],
     "prompt_number": 16
    },
    {
     "cell_type": "code",
     "collapsed": false,
     "input": [
      "df_Registered = df[df.RegisteredUserId.notnull()]"
     ],
     "language": "python",
     "metadata": {},
     "outputs": [],
     "prompt_number": 17
    },
    {
     "cell_type": "heading",
     "level": 4,
     "metadata": {},
     "source": [
      "Find out which are the users that create this difference"
     ]
    },
    {
     "cell_type": "code",
     "collapsed": false,
     "input": [
      "All_Registered =  pd.Series(df.RegisteredUserId.unique()).dropna()"
     ],
     "language": "python",
     "metadata": {},
     "outputs": [],
     "prompt_number": 18
    },
    {
     "cell_type": "code",
     "collapsed": false,
     "input": [
      "start_time = time.time()\n",
      "users_anomaly = [i for i in All_Registered if i not in set(male)|set(female)|set(no_given_sex)]\n",
      "print(\"--- %s seconds ---\" % (time.time() - start_time))\n",
      "print users_anomaly"
     ],
     "language": "python",
     "metadata": {},
     "outputs": [
      {
       "output_type": "stream",
       "stream": "stdout",
       "text": [
        "--- 3.79127907753 seconds ---\n",
        "['cdc75a725963530a598e71c70677926b9a5f1bc1']\n"
       ]
      }
     ],
     "prompt_number": 19
    },
    {
     "cell_type": "code",
     "collapsed": false,
     "input": [
      "sum_anomaly_actions = [len(df[df.RegisteredUserId==users_anomaly[i]]) for i in range(len(users_anomaly))]\n",
      "\n",
      "records_anomaly_users_in_user_info = [len(users[users.RegisteredUserId==users_anomaly[i]]) for i in range(len(users_anomaly))]"
     ],
     "language": "python",
     "metadata": {},
     "outputs": [],
     "prompt_number": 20
    },
    {
     "cell_type": "code",
     "collapsed": false,
     "input": [
      "print sum_anomaly_actions\n",
      "print records_anomaly_users_in_user_info"
     ],
     "language": "python",
     "metadata": {},
     "outputs": [
      {
       "output_type": "stream",
       "stream": "stdout",
       "text": [
        "[3731]\n",
        "[0]\n"
       ]
      }
     ],
     "prompt_number": 21
    },
    {
     "cell_type": "heading",
     "level": 4,
     "metadata": {},
     "source": [
      "We check if this anomaly happens to the rest of the log files"
     ]
    },
    {
     "cell_type": "code",
     "collapsed": false,
     "input": [
      "from os import listdir\n",
      "from os.path import isfile, join\n",
      "mypath = '/home/gkaiafas/Downloads/Titanic/dataset/'\n",
      "onlyfiles = [ f for f in listdir(mypath) if (isfile(join(mypath,f)))]"
     ],
     "language": "python",
     "metadata": {},
     "outputs": [],
     "prompt_number": 22
    },
    {
     "cell_type": "code",
     "collapsed": false,
     "input": [
      "onlyfiles.remove('user_info.csv')\n",
      "#onlyfiles.remove('.~lock.user_info.csv#')\n",
      "onlyfiles = sorted(onlyfiles)"
     ],
     "language": "python",
     "metadata": {},
     "outputs": [],
     "prompt_number": 23
    },
    {
     "cell_type": "heading",
     "level": 4,
     "metadata": {},
     "source": [
      "We have to skip some bad lines to load our data!!!! Some lines containing timestamps are broken "
     ]
    },
    {
     "cell_type": "code",
     "collapsed": false,
     "input": [
      "print len(pd.read_csv(join(mypath,onlyfiles[1]),sep=\",\",header=None,parse_dates=True,error_bad_lines=False))"
     ],
     "language": "python",
     "metadata": {},
     "outputs": [
      {
       "output_type": "stream",
       "stream": "stdout",
       "text": [
        "451016\n"
       ]
      },
      {
       "output_type": "stream",
       "stream": "stderr",
       "text": [
        "Skipping line 411899: expected 13 fields, saw 19\n",
        "\n"
       ]
      }
     ],
     "prompt_number": 24
    },
    {
     "cell_type": "code",
     "collapsed": false,
     "input": [
      "start_time = time.time()\n",
      "actions_anomaly_users = []\n",
      "which_users_anomaly = []\n",
      "for i in range(len(onlyfiles)):\n",
      "    df = pd.read_csv(join(mypath,onlyfiles[i]),sep=\",\",header=None, parse_dates=True,error_bad_lines=False)\n",
      "    df.columns=['sttp','UserSessionId', 'RegisteredUserId', 'PathURL', 'action', 'Time', 'Query', 'CategoryId', 'ShopId',\n",
      "            'ProductID', 'RefURL', 'SKU_Id','#Results']\n",
      "    Registered = list(df.RegisteredUserId.dropna())\n",
      "    females_logs_intersection = [i for i in Registered if i in female]\n",
      "    males_logs_intersection = [j for j in Registered if j in male]\n",
      "    no_given_sex_logs_intersection = [j for j in Registered if j in no_given_sex]\n",
      "    All_Registered =  pd.Series(df.RegisteredUserId.unique()).dropna()\n",
      "    users_anomaly = [i for i in All_Registered if i not in set(male)|set(female)|set(no_given_sex)]\n",
      "    sum_anomaly_actions = [len(df[df.RegisteredUserId==users_anomaly[i]]) for i in range(len(users_anomaly))]\n",
      "    actions_anomaly_users.append(sum_anomaly_actions)\n",
      "    which_users_anomaly.append(users_anomaly)\n",
      "print(\"--- %s seconds ---\" % (time.time() - start_time))"
     ],
     "language": "python",
     "metadata": {},
     "outputs": [
      {
       "output_type": "stream",
       "stream": "stderr",
       "text": [
        "Skipping line 411899: expected 13 fields, saw 19\n",
        "\n",
        "Skipping line 21836: expected 13 fields, saw 19\n"
       ]
      },
      {
       "output_type": "stream",
       "stream": "stderr",
       "text": [
        "\n",
        "Skipping line 302360: expected 13 fields, saw 19\n"
       ]
      },
      {
       "output_type": "stream",
       "stream": "stderr",
       "text": [
        "\n",
        "Skipping line 173493: expected 13 fields, saw 19\n"
       ]
      },
      {
       "output_type": "stream",
       "stream": "stderr",
       "text": [
        "\n",
        "Skipping line 178106: expected 13 fields, saw 19\n"
       ]
      },
      {
       "output_type": "stream",
       "stream": "stderr",
       "text": [
        "\n",
        "Skipping line 118061: expected 13 fields, saw 19\n"
       ]
      },
      {
       "output_type": "stream",
       "stream": "stderr",
       "text": [
        "\n",
        "Skipping line 228850: expected 13 fields, saw 19\n",
        "Skipping line 229113: expected 13 fields, saw 19\n"
       ]
      },
      {
       "output_type": "stream",
       "stream": "stderr",
       "text": [
        "\n",
        "Skipping line 17053: expected 13 fields, saw 19\n"
       ]
      },
      {
       "output_type": "stream",
       "stream": "stderr",
       "text": [
        "\n",
        "Skipping line 47182: expected 13 fields, saw 19\n"
       ]
      },
      {
       "output_type": "stream",
       "stream": "stderr",
       "text": [
        "\n",
        "Skipping line 136317: expected 13 fields, saw 19\n"
       ]
      },
      {
       "output_type": "stream",
       "stream": "stderr",
       "text": [
        "\n",
        "Skipping line 244355: expected 13 fields, saw 19\n"
       ]
      },
      {
       "output_type": "stream",
       "stream": "stderr",
       "text": [
        "\n",
        "Skipping line 44730: expected 13 fields, saw 19\n"
       ]
      },
      {
       "output_type": "stream",
       "stream": "stderr",
       "text": [
        "\n",
        "Skipping line 100802: expected 13 fields, saw 19\n"
       ]
      },
      {
       "output_type": "stream",
       "stream": "stderr",
       "text": [
        "\n",
        "/usr/local/lib/python2.7/dist-packages/pandas/io/parsers.py:1170: DtypeWarning: Columns (2,4) have mixed types. Specify dtype option on import or set low_memory=False.\n",
        "  data = self._reader.read(nrows)\n"
       ]
      },
      {
       "output_type": "stream",
       "stream": "stderr",
       "text": [
        "Skipping line 95410: expected 13 fields, saw 19\n",
        "\n",
        "Skipping line 307609: expected 13 fields, saw 19\n"
       ]
      },
      {
       "output_type": "stream",
       "stream": "stderr",
       "text": [
        "\n",
        "Skipping line 73706: expected 13 fields, saw 19\n"
       ]
      },
      {
       "output_type": "stream",
       "stream": "stderr",
       "text": [
        "\n",
        "Skipping line 143667: expected 13 fields, saw 19\n"
       ]
      },
      {
       "output_type": "stream",
       "stream": "stderr",
       "text": [
        "\n",
        "Skipping line 411116: expected 13 fields, saw 19\n"
       ]
      },
      {
       "output_type": "stream",
       "stream": "stdout",
       "text": [
        "--- 272.290819168 seconds ---\n"
       ]
      },
      {
       "output_type": "stream",
       "stream": "stderr",
       "text": [
        "\n"
       ]
      }
     ],
     "prompt_number": 25
    },
    {
     "cell_type": "code",
     "collapsed": false,
     "input": [
      "#-- 465.257967949 seconds ---\n",
      "which_users_anomaly"
     ],
     "language": "python",
     "metadata": {},
     "outputs": [
      {
       "metadata": {},
       "output_type": "pyout",
       "prompt_number": 26,
       "text": [
        "[['cdc75a725963530a598e71c70677926b9a5f1bc1'],\n",
        " ['cdc75a725963530a598e71c70677926b9a5f1bc1'],\n",
        " ['cdc75a725963530a598e71c70677926b9a5f1bc1'],\n",
        " ['cdc75a725963530a598e71c70677926b9a5f1bc1'],\n",
        " ['cdc75a725963530a598e71c70677926b9a5f1bc1'],\n",
        " ['cdc75a725963530a598e71c70677926b9a5f1bc1'],\n",
        " ['cdc75a725963530a598e71c70677926b9a5f1bc1'],\n",
        " ['cdc75a725963530a598e71c70677926b9a5f1bc1'],\n",
        " ['cdc75a725963530a598e71c70677926b9a5f1bc1'],\n",
        " ['cdc75a725963530a598e71c70677926b9a5f1bc1'],\n",
        " ['cdc75a725963530a598e71c70677926b9a5f1bc1'],\n",
        " ['cdc75a725963530a598e71c70677926b9a5f1bc1'],\n",
        " ['cdc75a725963530a598e71c70677926b9a5f1bc1'],\n",
        " ['cdc75a725963530a598e71c70677926b9a5f1bc1'],\n",
        " ['cdc75a725963530a598e71c70677926b9a5f1bc1'],\n",
        " ['cdc75a725963530a598e71c70677926b9a5f1bc1'],\n",
        " ['cdc75a725963530a598e71c70677926b9a5f1bc1'],\n",
        " ['cdc75a725963530a598e71c70677926b9a5f1bc1'],\n",
        " ['cdc75a725963530a598e71c70677926b9a5f1bc1'],\n",
        " ['cdc75a725963530a598e71c70677926b9a5f1bc1'],\n",
        " ['cdc75a725963530a598e71c70677926b9a5f1bc1'],\n",
        " ['cdc75a725963530a598e71c70677926b9a5f1bc1'],\n",
        " ['cdc75a725963530a598e71c70677926b9a5f1bc1'],\n",
        " ['cdc75a725963530a598e71c70677926b9a5f1bc1'],\n",
        " ['cdc75a725963530a598e71c70677926b9a5f1bc1'],\n",
        " ['cdc75a725963530a598e71c70677926b9a5f1bc1'],\n",
        " ['cdc75a725963530a598e71c70677926b9a5f1bc1'],\n",
        " ['cdc75a725963530a598e71c70677926b9a5f1bc1'],\n",
        " ['cdc75a725963530a598e71c70677926b9a5f1bc1'],\n",
        " ['cdc75a725963530a598e71c70677926b9a5f1bc1']]"
       ]
      }
     ],
     "prompt_number": 26
    },
    {
     "cell_type": "code",
     "collapsed": false,
     "input": [
      "actions_anomaly_users"
     ],
     "language": "python",
     "metadata": {},
     "outputs": [
      {
       "metadata": {},
       "output_type": "pyout",
       "prompt_number": 27,
       "text": [
        "[[3731],\n",
        " [5159],\n",
        " [4965],\n",
        " [5129],\n",
        " [5096],\n",
        " [4681],\n",
        " [3763],\n",
        " [4593],\n",
        " [5106],\n",
        " [4900],\n",
        " [5455],\n",
        " [5052],\n",
        " [4932],\n",
        " [4404],\n",
        " [4418],\n",
        " [5534],\n",
        " [5274],\n",
        " [5338],\n",
        " [5217],\n",
        " [4925],\n",
        " [4664],\n",
        " [5043],\n",
        " [5370],\n",
        " [5678],\n",
        " [5125],\n",
        " [5511],\n",
        " [4627],\n",
        " [4229],\n",
        " [4421],\n",
        " [5297]]"
       ]
      }
     ],
     "prompt_number": 27
    },
    {
     "cell_type": "code",
     "collapsed": false,
     "input": [
      "plt.plot(actions_anomaly_users)\n",
      "plt.show()"
     ],
     "language": "python",
     "metadata": {},
     "outputs": [
      {
       "metadata": {},
       "output_type": "display_data",
       "png": "[encoded data removed]",
       "text": [
        "<matplotlib.figure.Figure at 0x7fa7c4e729d0>"
       ]
      }
     ],
     "prompt_number": 28
    },
    {
     "cell_type": "code",
     "collapsed": false,
     "input": [
      "start_time = time.time()\n",
      "\n",
      "df = df[df.RegisteredUserId!='cdc75a725963530a598e71c70677926b9a5f1bc1']\n",
      "mean_actions_true_users_day = []\n",
      "sum_true_actions1 = []\n",
      "for i in range(len(onlyfiles)):\n",
      "    df = pd.read_csv(join(mypath,onlyfiles[i]),sep=\",\",header=None,parse_dates=True,error_bad_lines=False)\n",
      "    df.columns=['sttp','UserSessionId', 'RegisteredUserId', 'PathURL', 'action', 'Time', 'Query', 'CategoryId', 'ShopId',\n",
      "            'ProductID', 'RefURL', 'SKU_Id','#Results']\n",
      "    Registered = list(df.RegisteredUserId.dropna())\n",
      "    All_Registered =  pd.Series(df.RegisteredUserId.unique()).dropna()\n",
      "    users_true = [i for i in All_Registered if i in set(male)|set(female)|set(no_given_sex)]\n",
      "    sum_true_actions = [len(df[df.RegisteredUserId==users_true[i]]) for i in range(len(users_true))]\n",
      "    mean_actions_true_users_day.append(sum(sum_anomaly_actions)/float(len(All_Registered)))\n",
      "    sum_true_actions1.append(sum_true_actions)\n",
      "print(\"--- %s seconds ---\" % (time.time() - start_time))"
     ],
     "language": "python",
     "metadata": {},
     "outputs": [
      {
       "output_type": "stream",
       "stream": "stderr",
       "text": [
        "Skipping line 411899: expected 13 fields, saw 19\n",
        "\n",
        "Skipping line 21836: expected 13 fields, saw 19\n"
       ]
      },
      {
       "output_type": "stream",
       "stream": "stderr",
       "text": [
        "\n",
        "Skipping line 302360: expected 13 fields, saw 19\n"
       ]
      },
      {
       "output_type": "stream",
       "stream": "stderr",
       "text": [
        "\n",
        "Skipping line 173493: expected 13 fields, saw 19\n"
       ]
      },
      {
       "output_type": "stream",
       "stream": "stderr",
       "text": [
        "\n",
        "Skipping line 178106: expected 13 fields, saw 19\n"
       ]
      },
      {
       "output_type": "stream",
       "stream": "stderr",
       "text": [
        "\n",
        "Skipping line 118061: expected 13 fields, saw 19\n"
       ]
      },
      {
       "output_type": "stream",
       "stream": "stderr",
       "text": [
        "\n",
        "Skipping line 228850: expected 13 fields, saw 19\n",
        "Skipping line 229113: expected 13 fields, saw 19\n"
       ]
      },
      {
       "output_type": "stream",
       "stream": "stderr",
       "text": [
        "\n",
        "Skipping line 17053: expected 13 fields, saw 19\n"
       ]
      },
      {
       "output_type": "stream",
       "stream": "stderr",
       "text": [
        "\n",
        "Skipping line 47182: expected 13 fields, saw 19\n"
       ]
      },
      {
       "output_type": "stream",
       "stream": "stderr",
       "text": [
        "\n",
        "Skipping line 136317: expected 13 fields, saw 19\n"
       ]
      },
      {
       "output_type": "stream",
       "stream": "stderr",
       "text": [
        "\n",
        "Skipping line 244355: expected 13 fields, saw 19\n"
       ]
      },
      {
       "output_type": "stream",
       "stream": "stderr",
       "text": [
        "\n",
        "Skipping line 44730: expected 13 fields, saw 19\n"
       ]
      },
      {
       "output_type": "stream",
       "stream": "stderr",
       "text": [
        "\n",
        "Skipping line 100802: expected 13 fields, saw 19\n"
       ]
      },
      {
       "output_type": "stream",
       "stream": "stderr",
       "text": [
        "\n",
        "Skipping line 95410: expected 13 fields, saw 19\n"
       ]
      },
      {
       "output_type": "stream",
       "stream": "stderr",
       "text": [
        "\n",
        "Skipping line 307609: expected 13 fields, saw 19\n"
       ]
      },
      {
       "output_type": "stream",
       "stream": "stderr",
       "text": [
        "\n",
        "Skipping line 73706: expected 13 fields, saw 19\n"
       ]
      },
      {
       "output_type": "stream",
       "stream": "stderr",
       "text": [
        "\n",
        "Skipping line 143667: expected 13 fields, saw 19\n"
       ]
      },
      {
       "output_type": "stream",
       "stream": "stderr",
       "text": [
        "\n",
        "Skipping line 411116: expected 13 fields, saw 19\n"
       ]
      },
      {
       "output_type": "stream",
       "stream": "stdout",
       "text": [
        "--- 2253.55450892 seconds ---\n"
       ]
      },
      {
       "output_type": "stream",
       "stream": "stderr",
       "text": [
        "\n"
       ]
      }
     ],
     "prompt_number": 29
    },
    {
     "cell_type": "code",
     "collapsed": false,
     "input": [
      "daily_average_actions_Registered = [float(sum(sum_true_actions1[i]))/(len(sum_true_actions1[i])) for i in range(len(sum_true_actions1))]"
     ],
     "language": "python",
     "metadata": {},
     "outputs": [],
     "prompt_number": 30
    },
    {
     "cell_type": "code",
     "collapsed": false,
     "input": [
      "daily_Top5_Registered = [float(sum(sorted(sum_true_actions1[i],reverse=True)[:5]))/5 for i in range(len(sum_true_actions1))]"
     ],
     "language": "python",
     "metadata": {},
     "outputs": [],
     "prompt_number": 31
    },
    {
     "cell_type": "code",
     "collapsed": false,
     "input": [
      "plt.plot(daily_average_actions_Registered,'r', actions_anomaly_users,'b', daily_Top5_Registered, 'g')\n",
      "plt.show()"
     ],
     "language": "python",
     "metadata": {},
     "outputs": [
      {
       "metadata": {},
       "output_type": "display_data",
       "png": "[encoded data removed]",
       "text": [
        "<matplotlib.figure.Figure at 0x7fa7befe36d0>"
       ]
      }
     ],
     "prompt_number": 32
    },
    {
     "cell_type": "heading",
     "level": 4,
     "metadata": {},
     "source": [
      "The big picture of data is aggregated in the following DataFrame"
     ]
    },
    {
     "cell_type": "code",
     "collapsed": false,
     "input": [
      "big_picture = pd.concat([pd.DataFrame(actions_anomaly_users), pd.DataFrame(daily_average_actions_Registered), pd.DataFrame(daily_Top5_Registered)],axis=1)\n",
      "big_picture.columns = ['Anom', 'Daily_Avg_All', 'Daily_Avg_Top5']\n",
      "big_picture"
     ],
     "language": "python",
     "metadata": {},
     "outputs": [
      {
       "html": [
        "<div style=\"max-width:1500px;overflow:auto;\">\n",
        "<table border=\"1\" class=\"dataframe\">\n",
        "  <thead>\n",
        "    <tr style=\"text-align: right;\">\n",
        "      <th></th>\n",
        "      <th>Anom</th>\n",
        "      <th>Daily_Avg_All</th>\n",
        "      <th>Daily_Avg_Top5</th>\n",
        "    </tr>\n",
        "  </thead>\n",
        "  <tbody>\n",
        "    <tr>\n",
        "      <th>0</th>\n",
        "      <td>3731</td>\n",
        "      <td>5.773129</td>\n",
        "      <td>71.4</td>\n",
        "    </tr>\n",
        "    <tr>\n",
        "      <th>1</th>\n",
        "      <td>5159</td>\n",
        "      <td>6.232456</td>\n",
        "      <td>106.8</td>\n",
        "    </tr>\n",
        "    <tr>\n",
        "      <th>2</th>\n",
        "      <td>4965</td>\n",
        "      <td>6.150500</td>\n",
        "      <td>134.2</td>\n",
        "    </tr>\n",
        "    <tr>\n",
        "      <th>3</th>\n",
        "      <td>5129</td>\n",
        "      <td>6.124104</td>\n",
        "      <td>151.0</td>\n",
        "    </tr>\n",
        "    <tr>\n",
        "      <th>4</th>\n",
        "      <td>5096</td>\n",
        "      <td>6.258704</td>\n",
        "      <td>109.8</td>\n",
        "    </tr>\n",
        "    <tr>\n",
        "      <th>5</th>\n",
        "      <td>4681</td>\n",
        "      <td>6.395717</td>\n",
        "      <td>104.0</td>\n",
        "    </tr>\n",
        "    <tr>\n",
        "      <th>6</th>\n",
        "      <td>3763</td>\n",
        "      <td>6.303743</td>\n",
        "      <td>103.2</td>\n",
        "    </tr>\n",
        "    <tr>\n",
        "      <th>7</th>\n",
        "      <td>4593</td>\n",
        "      <td>5.920359</td>\n",
        "      <td>83.2</td>\n",
        "    </tr>\n",
        "    <tr>\n",
        "      <th>8</th>\n",
        "      <td>5106</td>\n",
        "      <td>6.207052</td>\n",
        "      <td>135.8</td>\n",
        "    </tr>\n",
        "    <tr>\n",
        "      <th>9</th>\n",
        "      <td>4900</td>\n",
        "      <td>5.807898</td>\n",
        "      <td>85.0</td>\n",
        "    </tr>\n",
        "    <tr>\n",
        "      <th>10</th>\n",
        "      <td>5455</td>\n",
        "      <td>6.176329</td>\n",
        "      <td>106.4</td>\n",
        "    </tr>\n",
        "    <tr>\n",
        "      <th>11</th>\n",
        "      <td>5052</td>\n",
        "      <td>6.438385</td>\n",
        "      <td>155.8</td>\n",
        "    </tr>\n",
        "    <tr>\n",
        "      <th>12</th>\n",
        "      <td>4932</td>\n",
        "      <td>5.685059</td>\n",
        "      <td>89.2</td>\n",
        "    </tr>\n",
        "    <tr>\n",
        "      <th>13</th>\n",
        "      <td>4404</td>\n",
        "      <td>5.878244</td>\n",
        "      <td>82.0</td>\n",
        "    </tr>\n",
        "    <tr>\n",
        "      <th>14</th>\n",
        "      <td>4418</td>\n",
        "      <td>5.802864</td>\n",
        "      <td>95.6</td>\n",
        "    </tr>\n",
        "    <tr>\n",
        "      <th>15</th>\n",
        "      <td>5534</td>\n",
        "      <td>6.445458</td>\n",
        "      <td>159.4</td>\n",
        "    </tr>\n",
        "    <tr>\n",
        "      <th>16</th>\n",
        "      <td>5274</td>\n",
        "      <td>6.183803</td>\n",
        "      <td>128.4</td>\n",
        "    </tr>\n",
        "    <tr>\n",
        "      <th>17</th>\n",
        "      <td>5338</td>\n",
        "      <td>5.917961</td>\n",
        "      <td>96.6</td>\n",
        "    </tr>\n",
        "    <tr>\n",
        "      <th>18</th>\n",
        "      <td>5217</td>\n",
        "      <td>5.872186</td>\n",
        "      <td>96.0</td>\n",
        "    </tr>\n",
        "    <tr>\n",
        "      <th>19</th>\n",
        "      <td>4925</td>\n",
        "      <td>5.730159</td>\n",
        "      <td>69.8</td>\n",
        "    </tr>\n",
        "    <tr>\n",
        "      <th>20</th>\n",
        "      <td>4664</td>\n",
        "      <td>6.156940</td>\n",
        "      <td>118.4</td>\n",
        "    </tr>\n",
        "    <tr>\n",
        "      <th>21</th>\n",
        "      <td>5043</td>\n",
        "      <td>5.834975</td>\n",
        "      <td>101.4</td>\n",
        "    </tr>\n",
        "    <tr>\n",
        "      <th>22</th>\n",
        "      <td>5370</td>\n",
        "      <td>6.226553</td>\n",
        "      <td>126.0</td>\n",
        "    </tr>\n",
        "    <tr>\n",
        "      <th>23</th>\n",
        "      <td>5678</td>\n",
        "      <td>6.065283</td>\n",
        "      <td>121.2</td>\n",
        "    </tr>\n",
        "    <tr>\n",
        "      <th>24</th>\n",
        "      <td>5125</td>\n",
        "      <td>5.901831</td>\n",
        "      <td>134.0</td>\n",
        "    </tr>\n",
        "    <tr>\n",
        "      <th>25</th>\n",
        "      <td>5511</td>\n",
        "      <td>6.149225</td>\n",
        "      <td>107.2</td>\n",
        "    </tr>\n",
        "    <tr>\n",
        "      <th>26</th>\n",
        "      <td>4627</td>\n",
        "      <td>6.429160</td>\n",
        "      <td>130.2</td>\n",
        "    </tr>\n",
        "    <tr>\n",
        "      <th>27</th>\n",
        "      <td>4229</td>\n",
        "      <td>6.043307</td>\n",
        "      <td>97.2</td>\n",
        "    </tr>\n",
        "    <tr>\n",
        "      <th>28</th>\n",
        "      <td>4421</td>\n",
        "      <td>5.775728</td>\n",
        "      <td>102.8</td>\n",
        "    </tr>\n",
        "    <tr>\n",
        "      <th>29</th>\n",
        "      <td>5297</td>\n",
        "      <td>6.057870</td>\n",
        "      <td>128.2</td>\n",
        "    </tr>\n",
        "  </tbody>\n",
        "</table>\n",
        "</div>"
       ],
       "metadata": {},
       "output_type": "pyout",
       "prompt_number": 33,
       "text": [
        "    Anom  Daily_Avg_All  Daily_Avg_Top5\n",
        "0   3731       5.773129            71.4\n",
        "1   5159       6.232456           106.8\n",
        "2   4965       6.150500           134.2\n",
        "3   5129       6.124104           151.0\n",
        "4   5096       6.258704           109.8\n",
        "5   4681       6.395717           104.0\n",
        "6   3763       6.303743           103.2\n",
        "7   4593       5.920359            83.2\n",
        "8   5106       6.207052           135.8\n",
        "9   4900       5.807898            85.0\n",
        "10  5455       6.176329           106.4\n",
        "11  5052       6.438385           155.8\n",
        "12  4932       5.685059            89.2\n",
        "13  4404       5.878244            82.0\n",
        "14  4418       5.802864            95.6\n",
        "15  5534       6.445458           159.4\n",
        "16  5274       6.183803           128.4\n",
        "17  5338       5.917961            96.6\n",
        "18  5217       5.872186            96.0\n",
        "19  4925       5.730159            69.8\n",
        "20  4664       6.156940           118.4\n",
        "21  5043       5.834975           101.4\n",
        "22  5370       6.226553           126.0\n",
        "23  5678       6.065283           121.2\n",
        "24  5125       5.901831           134.0\n",
        "25  5511       6.149225           107.2\n",
        "26  4627       6.429160           130.2\n",
        "27  4229       6.043307            97.2\n",
        "28  4421       5.775728           102.8\n",
        "29  5297       6.057870           128.2"
       ]
      }
     ],
     "prompt_number": 33
    },
    {
     "cell_type": "heading",
     "level": 3,
     "metadata": {},
     "source": [
      "So the number of the phantom actions on a daily basis was 3 orders of magnitude higher than the average of registered users, and 1-2 orders of magnitude higher than the average of the \u201ctop-5\u201d most active (registered) users."
     ]
    },
    {
     "cell_type": "code",
     "collapsed": false,
     "input": [],
     "language": "python",
     "metadata": {},
     "outputs": [],
     "prompt_number": 33
    }
   ],
   "metadata": {}
  }
 ]
}